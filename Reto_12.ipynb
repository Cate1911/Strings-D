{
 "cells": [
  {
   "cell_type": "code",
   "execution_count": null,
   "metadata": {},
   "outputs": [
    {
     "name": "stdout",
     "output_type": "stream",
     "text": [
      "La cantidad de vocales en el archivo es 22450.\n",
      "La cantidad de consonantes en el archivo es 36063.\n",
      "Las 50 palabras más repetidas son: \n",
      "[('edu', 434), ('2008', 380), ('jan', 352), ('sakaiproject', 340), ('from', 326), ('by', 272), ('collab', 270), ('x', 254), ('fri', 245), ('received', 243), ('org', 232), ('iupui', 227), ('0500', 219), ('4', 219), ('ac', 218), ('umich', 218), ('id', 217), ('8', 216), ('with', 194), ('11', 194), ('uk', 193), ('uhi', 189), ('0', 189), ('nakamura', 189), ('uits', 189), ('12', 165), ('java', 160), ('src', 157), ('tool', 148), ('3', 143), ('04', 125), ('source', 122), ('content', 119), ('for', 119), ('1', 111), ('org>', 108), ('mail', 108), ('esmtp', 108), ('paploo', 108), ('dspam', 108), ('2', 89), ('site', 84), ('text', 83), ('message', 82), ('mr', 81), ('itd', 81), ('localhost', 81), ('+0000', 81), ('gmt', 81), ('<source', 81)]\n"
     ]
    }
   ],
   "source": [
    "from collections import Counter\n",
    "\n",
    "ruta_archivo = r'C:\\Users\\admin\\Documents\\Proyecto programación\\mbox-short.txt' #asignarle una variable al archivo\n",
    "\n",
    "with open(ruta_archivo, 'r') as archivo: #utilizar el statement with open para abrir el archivo\n",
    "    contenido = archivo.read() #leer el archivo\n",
    "\n",
    "    lista_vocales = [\"a\", \"e\", \"i\", \"o\", \"u\", \"A\", \"E\", \"I\", \"O\", \"U\", \"á\", \"é\", \"í\", \"ó\", \"ú\", \"Á\", \"É\", \"Í\", \"Ó\", \"Ú\"] #crear lista con las vocales en mayúscula y minúscula\n",
    "    cantidad_vocales : int = 0 #declarar e inicializar variable para sumar las vocales\n",
    "    cantidad_consonantes : int = 0 #declarar e inicializar variable para sumar las consonantes\n",
    "\n",
    "    for caracter in contenido: #usar ciclo for para que me recorra cada caracter del archivo\n",
    "        if caracter in lista_vocales: #verificar que el caracter sea una vocal si está en la lista que creé\n",
    "            cantidad_vocales += 1\n",
    "        elif caracter not in lista_vocales and caracter.isalpha(): #verificar que el caracter sea una letra y no esté en la lista que creé\n",
    "            cantidad_consonantes += 1\n",
    "        \n",
    "    signos = \".,:;-[]{}()'\\\"@/¿?¡!0123456789\" #definir una cadena que represente todos los carácteres diferentes a las letras\n",
    "    a_espacios = str.maketrans(signos, \" \"*len(signos)) #crear un objeto de traducción que mapea cada carácter de la cadena 'signos' a un espacio en blanco\n",
    "    #utilizar el objeto de traducción para reemplazar los signos de puntuación con espacios en blanco\n",
    "    #convertir todo el contenido a minúsculas y dividir el resultado en una lista de palabras\n",
    "    palabras = str.translate(contenido, a_espacios).lower().split() #\n",
    "    contar_palabras = Counter(palabras) #utilizar el módulo counter de collections para poder contar la frecuencia en la que se encuentra cada palabra\n",
    "\n",
    "    print(f\"La cantidad de vocales en el archivo es {cantidad_vocales}.\") #imprimir cantidad de vocales\n",
    "    print(f\"La cantidad de consonantes en el archivo es {cantidad_consonantes}.\") #imprimir cantidad de consonantes\n",
    "    print(f\"Las 50 palabras más repetidas son: \")\n",
    "    print(contar_palabras.most_common(50)) #utilizar el comando most_common que importé de la librería \"Counter\" para que me devuelva un arreglo con los elementos que más se repiten en mi lista (las palabras en este caso)"
   ]
  }
 ],
 "metadata": {
  "kernelspec": {
   "display_name": "Python 3",
   "language": "python",
   "name": "python3"
  },
  "language_info": {
   "codemirror_mode": {
    "name": "ipython",
    "version": 3
   },
   "file_extension": ".py",
   "mimetype": "text/x-python",
   "name": "python",
   "nbconvert_exporter": "python",
   "pygments_lexer": "ipython3",
   "version": "3.12.0"
  }
 },
 "nbformat": 4,
 "nbformat_minor": 2
}
